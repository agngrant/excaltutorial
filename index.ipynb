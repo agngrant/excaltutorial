{
 "cells": [
  {
   "cell_type": "markdown",
   "id": "8dea8946-8818-44f4-981d-9700d5df5359",
   "metadata": {},
   "source": [
    "# BOUT++ Tutorials\n",
    "\n",
    "## Welcome to the Excalibur Tutorial Series on BOUT++\n",
    "\n",
    "Excalibur in 2021 and 2022 have been working with the software package BOUT++. As part of this work, Excalibur has created a series of tutorials to get you started with BOUT++, from building and installing it to running some simulations using it.\n",
    "\n",
    "## Container Sandbox Build\n",
    "\n",
    "Working in Jupyterlab you can build BOUT++ in a container environment which will not corrupt your existing workspace. This is where to start if you have never attempted to buld BOUT++ or are unsure about the process.\n",
    "\n",
    "Right Click on the file `jupyterinstall.juypterinstall.jupyterlab-workspace` in the file explorer to the right and click `Open With` -> `Workspace Loader`\n",
    "\n",
    "## Larger Systems\n",
    "\n",
    "Exaclibur has been testing BOUT++ on two larger HPC systems, [ARCHER2](https://www.archer2.ac.uk/) and [CIRRUS](https://www.cirrus.ac.uk/).\n",
    "\n",
    "Need blurb about there systems and similarities to other large systems.\n",
    "\n",
    "For ARCHER2: [Start Here](archer2/intro.md)\n",
    "\n",
    "For CIRRUS: [Start Here](cirrus/intro.md)\n",
    "\n",
    "## Running More BOUT++\n",
    "\n",
    "Tutorials on running a simulation\n",
    "\n",
    "How to extend BOUT++\n",
    "\n",
    "## Examples of BOUT++ Use\n",
    "\n",
    "Use Case Examples"
   ]
  }
 ],
 "metadata": {
  "kernelspec": {
   "display_name": "Python 3 (ipykernel)",
   "language": "python",
   "name": "python3"
  },
  "language_info": {
   "codemirror_mode": {
    "name": "ipython",
    "version": 3
   },
   "file_extension": ".py",
   "mimetype": "text/x-python",
   "name": "python",
   "nbconvert_exporter": "python",
   "pygments_lexer": "ipython3",
   "version": "3.9.7"
  }
 },
 "nbformat": 4,
 "nbformat_minor": 5
}
